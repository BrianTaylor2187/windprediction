{
 "cells": [
  {
   "cell_type": "code",
   "execution_count": 1,
   "metadata": {},
   "outputs": [],
   "source": [
    "import numpy as np\n",
    "import pandas as pd\n",
    "import matplotlib.pyplot as plt\n",
    "%matplotlib inline\n",
    "import seaborn as sns\n",
    "from datetime import datetime as dt"
   ]
  },
  {
   "cell_type": "code",
   "execution_count": 2,
   "metadata": {},
   "outputs": [],
   "source": [
    "from sklearn.model_selection import train_test_split\n",
    "from sklearn.metrics import mean_squared_error as mse\n",
    "from sklearn.model_selection import GridSearchCV\n",
    "from sklearn.svm import SVR\n",
    "from sklearn.utils.validation import column_or_1d"
   ]
  },
  {
   "cell_type": "code",
   "execution_count": 3,
   "metadata": {},
   "outputs": [],
   "source": [
    "from bokeh.plotting import figure, output_file, show"
   ]
  },
  {
   "cell_type": "code",
   "execution_count": 4,
   "metadata": {},
   "outputs": [],
   "source": [
    "df = pd.read_csv('ACISDailyData-20170101-20190101-PID144512549.csv', parse_dates = True, index_col='Date (Local Standard Time)')\n",
    "df.drop('Station Name', axis=1, inplace=True)"
   ]
  },
  {
   "cell_type": "code",
   "execution_count": 5,
   "metadata": {},
   "outputs": [
    {
     "name": "stdout",
     "output_type": "stream",
     "text": [
      "Tomorrow's predicted average wind speed: 9.736604892027866\n",
      "Confidence: 50.92%\n"
     ]
    }
   ],
   "source": [
    "X = df['Wind Speed 2 m Avg. (km/h)'][0:-1]\n",
    "y = df['Wind Speed 2 m Avg. (km/h)'].shift(-1)[0:-1]\n",
    "X = X.values.reshape(-1,1)\n",
    "y = y.values.reshape(-1,1)\n",
    "y = column_or_1d(y)\n",
    "X_train, X_test, y_train, y_test = train_test_split(X, y, test_size = 0.2)\n",
    "param_grid = {'C': [0.1,1,5, 10,50, 100], 'gamma': [1,0.1,0.01,0.001,0.0001]} \n",
    "grid = GridSearchCV(SVR(),param_grid,refit=True,cv=5, iid=False)\n",
    "grid.fit(X_train,y_train)\n",
    "grid_predictions = grid.predict(X_test)\n",
    "Input = X[-1].reshape(1,-1)\n",
    "Output = grid.predict(Input)\n",
    "Return = Output[0]\n",
    "df['predicted'] = grid.predict(df['Wind Speed 2 m Avg. (km/h)'].values.reshape(-1,1))\n",
    "p = figure(width = 500, height = 250, x_axis_type = \"datetime\", sizing_mode='scale_both')\n",
    "p.line(df.index, df['predicted'], line_width = 2, color = \"Orange\", alpha = 0.5, legend='Predicted')\n",
    "p.line(df.index, df['Wind Speed 2 m Avg. (km/h)'], line_width = 2, color = \"Blue\", alpha = 1, legend='Actual')\n",
    "p.legend.location = \"top_left\"\n",
    "p.legend.click_policy=\"hide\"\n",
    "output_file('windmodel2.html')\n",
    "show(p)\n",
    "print('Tomorrow\\'s predicted average wind speed: ' + str(Return))\n",
    "print('Confidence: ' + str(round(100 * np.sqrt(mse(y_test,grid_predictions))/Return, 2)) + '%')"
   ]
  }
 ],
 "metadata": {
  "kernelspec": {
   "display_name": "Python 3",
   "language": "python",
   "name": "python3"
  },
  "language_info": {
   "codemirror_mode": {
    "name": "ipython",
    "version": 3
   },
   "file_extension": ".py",
   "mimetype": "text/x-python",
   "name": "python",
   "nbconvert_exporter": "python",
   "pygments_lexer": "ipython3",
   "version": "3.6.7"
  }
 },
 "nbformat": 4,
 "nbformat_minor": 2
}
